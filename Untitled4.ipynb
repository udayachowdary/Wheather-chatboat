{
  "nbformat": 4,
  "nbformat_minor": 0,
  "metadata": {
    "colab": {
      "provenance": []
    },
    "kernelspec": {
      "name": "python3",
      "display_name": "Python 3"
    },
    "language_info": {
      "name": "python"
    }
  },
  "cells": [
    {
      "cell_type": "code",
      "execution_count": 1,
      "metadata": {
        "colab": {
          "base_uri": "https://localhost:8080/"
        },
        "id": "EbTGDqLMZeZ4",
        "outputId": "1e1c7b55-0e2b-40f3-e8a3-ac3217236932"
      },
      "outputs": [
        {
          "output_type": "stream",
          "name": "stdout",
          "text": [
            "Welcome to the Weather Chatbot!\n",
            "Please enter a location (or 'exit' to quit): Banglore\n",
            "Unable to fetch weather data for the given location.\n",
            "Please enter a location (or 'exit' to quit): Kurnool\n",
            "The current temperature in Kurnool is 33.3°C with Overcast.\n",
            "Please enter a location (or 'exit' to quit): Bengaluru\n",
            "The current temperature in Bengaluru is 28.0°C with Partly cloudy.\n",
            "Please enter a location (or 'exit' to quit): Chennai\n",
            "The current temperature in Chennai is 31.0°C with Mist.\n",
            "Please enter a location (or 'exit' to quit): exit\n",
            "Thank you for using the Weather Chatbot. Goodbye!\n"
          ]
        }
      ],
      "source": [
        "import requests\n",
        "import json\n",
        "\n",
        "def get_weather(location):\n",
        "    # API endpoint URL for weather data\n",
        "    url = f\"https://api.weatherapi.com/v1/current.json?key=661b900f19ac4f5f871154050231506 &q={location}\"\n",
        "\n",
        "    try:\n",
        "        # Send a GET request to the API\n",
        "        response = requests.get(url)\n",
        "        data = json.loads(response.text)\n",
        "\n",
        "        # Check if the response contains the 'current' key\n",
        "        if 'current' in data:\n",
        "            # Extract relevant weather information\n",
        "            temperature = data['current']['temp_c']\n",
        "            condition = data['current']['condition']['text']\n",
        "\n",
        "            # Return the weather information\n",
        "            return f\"The current temperature in {location} is {temperature}°C with {condition}.\"\n",
        "        else:\n",
        "            return \"Unable to fetch weather data for the given location.\"\n",
        "\n",
        "    except requests.exceptions.RequestException as e:\n",
        "        # Handle any errors that occur during the API request\n",
        "        return \"An error occurred while fetching the weather data.\"\n",
        "        # Chatbot interface\n",
        "print(\"Welcome to the Weather Chatbot!\")\n",
        "\n",
        "while True:\n",
        "    location = input(\"Please enter a location (or 'exit' to quit): \")\n",
        "\n",
        "    if location.lower() == 'exit':\n",
        "        print(\"Thank you for using the Weather Chatbot. Goodbye!\")\n",
        "        break\n",
        "\n",
        "    weather_info = get_weather(location)\n",
        "\n",
        "    print(weather_info)"
      ]
    }
  ]
}